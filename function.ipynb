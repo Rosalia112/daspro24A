{
 "cells": [
  {
   "cell_type": "code",
   "execution_count": 1,
   "id": "ac7eff24-9f60-493c-94be-8435df8716f9",
   "metadata": {},
   "outputs": [
    {
     "name": "stdin",
     "output_type": "stream",
     "text": [
      "Masukan kalimat yang ingin di reverse everyday\n"
     ]
    },
    {
     "name": "stdout",
     "output_type": "stream",
     "text": [
      "Hasil :  yadyreve\n"
     ]
    }
   ],
   "source": [
    "def reverse_per_kata(kalimat):\n",
    "    return \" \".join([kata[::-1] for kata in kalimat.split()])\n",
    "\n",
    "kalimat = input(\"Masukan kalimat yang ingin di reverse\")\n",
    "hasil = reverse_per_kata(kalimat)\n",
    "print(\"Hasil : \" , hasil)"
   ]
  },
  {
   "cell_type": "code",
   "execution_count": null,
   "id": "cfc0fb8c-e4e5-4314-8a23-f9e988a225a1",
   "metadata": {},
   "outputs": [],
   "source": [
    "#No1"
   ]
  },
  {
   "cell_type": "code",
   "execution_count": 59,
   "id": "e02ff1cc-e144-48b6-8f07-d4a6de3afe1b",
   "metadata": {},
   "outputs": [
    {
     "name": "stdin",
     "output_type": "stream",
     "text": [
      "Masukan kalimat :  honkai start rail v2\n"
     ]
    },
    {
     "name": "stdout",
     "output_type": "stream",
     "text": [
      "rail v2 start honkai\n"
     ]
    }
   ],
   "source": [
    "def urutkan_kalimat(kalimat, urutan):\n",
    "    kata = kalimat.split()\n",
    "    hasil = [kata[i-1] for i in urutan]\n",
    "    return \" \".join(hasil)\n",
    "\n",
    "kalimat = input(\"Masukan kalimat : \")\n",
    "urutan = [3,4,2,1]\n",
    "\n",
    "print(urutkan_kalimat(kalimat, urutan))"
   ]
  },
  {
   "cell_type": "code",
   "execution_count": null,
   "id": "401c4133-cf83-4ff3-9cdd-6d570011d6fa",
   "metadata": {},
   "outputs": [],
   "source": [
    "#No 2"
   ]
  },
  {
   "cell_type": "code",
   "execution_count": 57,
   "id": "53536a8a-83cc-42a2-8425-603fe33b3d6c",
   "metadata": {},
   "outputs": [
    {
     "name": "stdin",
     "output_type": "stream",
     "text": [
      "Masukkan kalimat:  sss www mmm ooo\n",
      "Masukkan urutan (pisahkan dengan koma, jumlah kata : 4) : 1,2,4,3\n"
     ]
    },
    {
     "name": "stdout",
     "output_type": "stream",
     "text": [
      "sss www ooo mmm\n"
     ]
    }
   ],
   "source": [
    "def urutkan_kalimat2(kalimat2, urutan2):\n",
    "    kata2 = kalimat2.split()\n",
    "    hasil2 = [kata2[i-1] for i in urutan2]\n",
    "    return \" \".join(hasil2)\n",
    "    \n",
    "\n",
    "kalimat = input(\"Masukkan kalimat: \")\n",
    "jumlah_kata = len(kalimat.split())\n",
    "\n",
    "urutan2 = list(map(int, input(f\"Masukkan urutan (pisahkan dengan koma, jumlah kata : {jumlah_kata}) :\").split(',')))\n",
    "\n",
    "if len(urutan2) != jumlah_kata or any(i > jumlah_kata or i < 1 for i in urutan2):\n",
    "    print(\"Urutan yang dimasukkan tidak valid. Pastikan jumlah dan nilai indeks benar.\")\n",
    "else:\n",
    "    print(urutkan_kalimat(kalimat, urutan2))\n",
    "\n"
   ]
  },
  {
   "cell_type": "code",
   "execution_count": null,
   "id": "d3facb71-43e7-4327-8954-06d03936c5cd",
   "metadata": {},
   "outputs": [],
   "source": [
    "#No 3"
   ]
  },
  {
   "cell_type": "code",
   "execution_count": 30,
   "id": "1db2978e-63cb-469b-8025-6eb6c5bccbb2",
   "metadata": {},
   "outputs": [
    {
     "name": "stdout",
     "output_type": "stream",
     "text": [
      "opsi 1 atau 2\n",
      "Opsi 1 = hanya huruf vokal kecil yang diubah\n",
      "Opsi 2 = hanya huruf vokal kapital yang diubah\n"
     ]
    },
    {
     "name": "stdin",
     "output_type": "stream",
     "text": [
      "Masukan kalimat yang ingin diubah :  rosa awalia\n",
      "Masukan opsi (1 atau 2) :  1\n"
     ]
    },
    {
     "name": "stdout",
     "output_type": "stream",
     "text": [
      "Hasilnya :  r0s4 4w4l14\n"
     ]
    }
   ],
   "source": [
    "def menu_opsi():\n",
    "    print(\"opsi 1 atau 2\")\n",
    "    print(\"Opsi 1 = hanya huruf vokal kecil yang diubah\")\n",
    "    print(\"Opsi 2 = hanya huruf vokal kapital yang diubah\")\n",
    "\n",
    "def ganti_kalimat(kalimat, opsi):\n",
    "    ubah_vokal_kecil = {'a':'4', 'i':'1', 'u':'|_|', 'e':'3', 'o':'0'}\n",
    "    ubah_vokal_kapital = {'A':'4', 'I':'1', 'U':'|_|', 'E':'3', 'O':'0'}\n",
    "    \n",
    "    kalimat_baru = \"\"\n",
    "    \n",
    "    for char in kalimat:\n",
    "        if opsi == 1 and char in ubah_vokal_kecil:\n",
    "            kalimat_baru += ubah_vokal_kecil[char]\n",
    "        elif opsi == 1 and char in ubah_vokal_kapital:\n",
    "            kalimat_baru += ubah_vokal_kapital[char]\n",
    "        else:\n",
    "            kalimat_baru += char\n",
    "            \n",
    "    return kalimat_baru\n",
    "\n",
    "menu_opsi()\n",
    "kalimat = input(\"Masukan kalimat yang ingin diubah : \")\n",
    "opsi = int(input(\"Masukan opsi (1 atau 2) : \"))\n",
    "hasil = ganti_kalimat(kalimat, opsi)\n",
    "print(\"Hasilnya : \" , hasil)\n"
   ]
  },
  {
   "cell_type": "code",
   "execution_count": null,
   "id": "f6d6699d-a7e8-47e8-9962-ea506c94fea1",
   "metadata": {},
   "outputs": [],
   "source": []
  }
 ],
 "metadata": {
  "kernelspec": {
   "display_name": "Python [conda env:base] *",
   "language": "python",
   "name": "conda-base-py"
  },
  "language_info": {
   "codemirror_mode": {
    "name": "ipython",
    "version": 3
   },
   "file_extension": ".py",
   "mimetype": "text/x-python",
   "name": "python",
   "nbconvert_exporter": "python",
   "pygments_lexer": "ipython3",
   "version": "3.12.7"
  }
 },
 "nbformat": 4,
 "nbformat_minor": 5
}
