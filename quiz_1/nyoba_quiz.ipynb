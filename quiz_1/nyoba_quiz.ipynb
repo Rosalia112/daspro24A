{
 "cells": [
  {
   "cell_type": "code",
   "execution_count": 9,
   "id": "1e6bd0cd-0498-47da-ab38-058c3c8e6712",
   "metadata": {},
   "outputs": [
    {
     "name": "stdout",
     "output_type": "stream",
     "text": [
      "John\n",
      "Harry\n",
      "Harry\n"
     ]
    }
   ],
   "source": [
    "#1\n",
    "nameList = [\"John\", \"Harry\", \"Jesse\", \"John\", \"Harry\", \"Harry\" ]\n",
    "nama = nameList[1]\n",
    "nama2 = nameList[4]\n",
    "nama3 = nameList[3]\n",
    "print(nama3)\n",
    "print(nama)\n",
    "print(nama2)"
   ]
  },
  {
   "cell_type": "code",
   "execution_count": 18,
   "id": "fb28c5f2-3f1f-49c5-a208-a54fbddfd3e9",
   "metadata": {},
   "outputs": [
    {
     "name": "stdout",
     "output_type": "stream",
     "text": [
      "None\n",
      "{}\n"
     ]
    }
   ],
   "source": [
    "#2\n",
    "student = {\"name\":\"Rosa\", \"Class\": 9 , \"Marks\": 90}\n",
    "\n",
    "hasil = student.clear()\n",
    "print(hasil)\n",
    "\n",
    "hasil2 = student.copy()\n",
    "print(hasil2)"
   ]
  },
  {
   "cell_type": "code",
   "execution_count": 22,
   "id": "6eec13f2-5005-432e-892e-2c1f54e7332d",
   "metadata": {},
   "outputs": [
    {
     "name": "stdout",
     "output_type": "stream",
     "text": [
      "True\n"
     ]
    }
   ],
   "source": [
    "#3\n",
    "dict1 = {\"key1\":1, \"key2\":2}\n",
    "dict2 = {\"key2\":2, \"key1\":1}\n",
    "\n",
    "print(dict1==dict2)"
   ]
  },
  {
   "cell_type": "code",
   "execution_count": 34,
   "id": "9ed93fca-f3ca-4398-867c-0a9a56153886",
   "metadata": {},
   "outputs": [
    {
     "name": "stdout",
     "output_type": "stream",
     "text": [
      "(100, 200, 300, 400, 500)\n",
      "400\n",
      "(200, 300, 400)\n"
     ]
    }
   ],
   "source": [
    "#4\n",
    "aTuple = (100, 200, 300, 400, 500)\n",
    "#tuple has no atribute pop, so aTuple.pop(2) is wrong\n",
    "print(aTuple)\n",
    "print(aTuple[-2])\n",
    "print(aTuple[-4:-1])"
   ]
  },
  {
   "cell_type": "code",
   "execution_count": 32,
   "id": "686de9cb-a17f-4763-b0c1-1ecefd3a6f6e",
   "metadata": {},
   "outputs": [
    {
     "name": "stdout",
     "output_type": "stream",
     "text": [
      "person =  {'name': 'Phill', 'age': 22}\n",
      "Age = 22\n"
     ]
    }
   ],
   "source": [
    "#5\n",
    "person = {'name':'Phill','age':22} \n",
    "a = person.setdefault('age')\n",
    "print('person = ' , person)\n",
    "print('Age =' , a)"
   ]
  },
  {
   "cell_type": "code",
   "execution_count": null,
   "id": "4c31a397-138a-4fe7-bf24-711873c6b07c",
   "metadata": {},
   "outputs": [],
   "source": []
  }
 ],
 "metadata": {
  "kernelspec": {
   "display_name": "Python [conda env:base] *",
   "language": "python",
   "name": "conda-base-py"
  },
  "language_info": {
   "codemirror_mode": {
    "name": "ipython",
    "version": 3
   },
   "file_extension": ".py",
   "mimetype": "text/x-python",
   "name": "python",
   "nbconvert_exporter": "python",
   "pygments_lexer": "ipython3",
   "version": "3.12.7"
  }
 },
 "nbformat": 4,
 "nbformat_minor": 5
}
