{
 "cells": [
  {
   "cell_type": "code",
   "execution_count": null,
   "id": "c3d399c4-95b4-4a49-a4ad-f3dffd09040b",
   "metadata": {},
   "outputs": [],
   "source": [
    "#Buatlah program yang meminta pengguna memasukkan usia seseorang, lalu tentukan apakah dia\n",
    "#anak-anak (0-12 tahun), remaja (13-17 tahun), dewasa (18-59 tahun), atau lansia (60 tahun ke atas)."
   ]
  },
  {
   "cell_type": "code",
   "execution_count": 2,
   "id": "f54d379e-75cb-4e14-82a4-120cee025395",
   "metadata": {},
   "outputs": [
    {
     "name": "stdin",
     "output_type": "stream",
     "text": [
      "Berapa umur kamu? 19\n"
     ]
    },
    {
     "name": "stdout",
     "output_type": "stream",
     "text": [
      "Kamu adalah dewasa\n"
     ]
    }
   ],
   "source": [
    "umur = int(input(\"Berapa umur kamu?\"))\n",
    "\n",
    "if umur<=12 : \n",
    "    print(\"kamu adalah anak-anak\")\n",
    "elif umur<=17 :\n",
    "    print(\"Kamu adalah remaja\")\n",
    "elif umur<=59 :\n",
    "    print(\"Kamu adalah dewasa\")\n",
    "else :\n",
    "    print(\"Kamu adalah lansia\")\n",
    "\n"
   ]
  },
  {
   "cell_type": "code",
   "execution_count": null,
   "id": "e16dfa98-23d8-4923-acd9-53ea424af1b0",
   "metadata": {},
   "outputs": [],
   "source": [
    "#Sebuah taman hiburan memiliki aturan harga tiket berdasarkan usia:\n",
    "#Anak-anak (0-12 tahun): Rp 10.000\n",
    "#Remaja (13-17 tahun): Rp 15.000\n",
    "#Dewasa (18-59 tahun): Rp 25.000\n",
    "#Lansia (60 tahun ke atas): Gratis\n",
    "\n",
    "#Buat program untuk menentukan harga tiket berdasarkan usia yang dimasukkan pengguna dan total harga yang harus dibayar, jika terdapat 3 input seperti berikut ini"
   ]
  },
  {
   "cell_type": "code",
   "execution_count": 4,
   "id": "7091f974-f01e-4da8-8cbf-6250f60f5717",
   "metadata": {},
   "outputs": [
    {
     "name": "stdin",
     "output_type": "stream",
     "text": [
      "Masukan umur kamu :  19\n"
     ]
    },
    {
     "name": "stdout",
     "output_type": "stream",
     "text": [
      "Harga tiket untukmu = 25.000\n"
     ]
    },
    {
     "name": "stdin",
     "output_type": "stream",
     "text": [
      "Masukan umur kamu :  10\n"
     ]
    },
    {
     "name": "stdout",
     "output_type": "stream",
     "text": [
      "Harga tiket untukmu = 10.000\n"
     ]
    },
    {
     "name": "stdin",
     "output_type": "stream",
     "text": [
      "Masukan umur kamu :  70\n"
     ]
    },
    {
     "name": "stdout",
     "output_type": "stream",
     "text": [
      "Harga tiket untukmu = 0.000. Yap betul, untuk lansia GRATIS!!\n",
      "Total harga tiket yang harus dibayar = 35000.000\n"
     ]
    }
   ],
   "source": [
    "def hitung_harga_tiket(umur):\n",
    "    harga_tiket_anak = 10.000\n",
    "    harga_tiket_remaja = 15.000\n",
    "    harga_tiket_dewasa = 25.000\n",
    "    harga_tiket_lansia = 0\n",
    "\n",
    "    if umur <= 12:\n",
    "        return f\"Harga tiket untukmu = {harga_tiket_anak:.3f}\"\n",
    "    elif umur <= 17:\n",
    "        return f\"Harga tiket untukmu = {harga_tiket_remaja:.3f}\"\n",
    "    elif umur <= 59:\n",
    "        return f\"Harga tiket untukmu = {harga_tiket_dewasa:.3f}\"\n",
    "    else:\n",
    "        return f\"Harga tiket untukmu = {harga_tiket_lansia:.3f}. Yap betul, untuk lansia GRATIS!!\"\n",
    "\n",
    "\n",
    "    \n",
    "harga_tiket1 = hitung_harga_tiket(int(input(\"Masukan umur kamu : \")))\n",
    "print(harga_tiket1)\n",
    "harga_tiket2 = hitung_harga_tiket(int(input(\"Masukan umur kamu : \")))\n",
    "print(harga_tiket2)\n",
    "harga_tiket3 = hitung_harga_tiket(int(input(\"Masukan umur kamu : \")))\n",
    "print(harga_tiket3)\n",
    "\n",
    "def ekstrak_harga(tiket):\n",
    "    return float(tiket.split('=')[1].split()[0].replace('.', ''))\n",
    "\n",
    "total_bayar = ekstrak_harga(harga_tiket1) + ekstrak_harga(harga_tiket2) + ekstrak_harga(harga_tiket3)\n",
    "print(f\"Total harga tiket yang harus dibayar = {total_bayar:.3f}\")"
   ]
  },
  {
   "cell_type": "code",
   "execution_count": 6,
   "id": "5e897ea1-093b-46a4-93e5-525b9b52e057",
   "metadata": {},
   "outputs": [],
   "source": [
    "#Program beasiswa:\n",
    "#Jika nilai rapor >= 90 dan penghasilan orang tua < Rp 5.000.000 : Beasiswa Penuh\n",
    "#Jika nilai rapor >= 85 dan penghasilan orang tua < Rp 8.000.000 : Beasiswa 50%\n",
    "#Jika tidak memenuhi syarat di atas = Tidak mendapatkan beasiswa"
   ]
  },
  {
   "cell_type": "code",
   "execution_count": 8,
   "id": "3324e5fd-fdaf-4f10-b87b-5935b2357827",
   "metadata": {},
   "outputs": [
    {
     "name": "stdin",
     "output_type": "stream",
     "text": [
      "Masukan nilai rapot :  93\n",
      "Masukan banyaknya penghasilan ortu :  4000000\n"
     ]
    },
    {
     "name": "stdout",
     "output_type": "stream",
     "text": [
      "Siswa ini layak dapat beasiswa penuh!!\n"
     ]
    }
   ],
   "source": [
    "nilai_rapor = float(input(\"Masukan nilai rapot : \"))\n",
    "penghasilan_ortu = float(input(\"Masukan banyaknya penghasilan ortu : \"))\n",
    "\n",
    "if nilai_rapor >= 90 and penghasilan_ortu <= 5000000 :\n",
    "    print(\"Siswa ini layak dapat beasiswa penuh!!\") \n",
    "elif nilai_rapor >= 80 and penghasilan_ortu <= 8000000 :\n",
    "    print(\"Siswa ini layak , mendapatkan beasiswa 50%\")\n",
    "else :\n",
    "    \"Siswa ini tidak layak mendapatkan beasiswa\""
   ]
  },
  {
   "cell_type": "code",
   "execution_count": 10,
   "id": "7f4dd6a1-f4d8-4c4b-a3ca-d50a07b4bc6e",
   "metadata": {},
   "outputs": [],
   "source": [
    "#Sebuah restoran memiliki diskon khusus:\n",
    "#Anak-anak (0-12 tahun) diskon 50%\n",
    "#Lansia (60 tahun ke atas) diskon 30%\n",
    "#Selain itu, tidak ada diskon\n",
    "#Buat program untuk menghitung harga yang harus dibayar setelah diskon diberikan."
   ]
  },
  {
   "cell_type": "code",
   "execution_count": 12,
   "id": "3e5562fe-6ff0-416f-8467-710e84a1af35",
   "metadata": {},
   "outputs": [
    {
     "name": "stdout",
     "output_type": "stream",
     "text": [
      "Selamat datang di Kedai Mie Ayam Kami!! ini dia daftar harganya : \n",
      "1. Mie ayam biasa : 10000\n",
      "2. Mie ayam bakso : 18000\n",
      "3. Mie ayam extra daging : 15000 \n",
      "4. Es teh : 5000\n",
      "5. Es Jeruk : 5000\n"
     ]
    },
    {
     "name": "stdin",
     "output_type": "stream",
     "text": [
      "Berapa umur kamu?  70\n"
     ]
    },
    {
     "name": "stdout",
     "output_type": "stream",
     "text": [
      "Kamu memenuhi syarat!!! Selamat Kamu dapat diskon 30% \n"
     ]
    },
    {
     "name": "stdin",
     "output_type": "stream",
     "text": [
      "Berapa jumlah mie ayam biasa yang anda pesan?  1\n",
      "Berapa jumlah mie ayam bakso yang anda pesan?  1\n",
      "Berapa jumlah mie ayam ekstra yang anda pesan?  1\n",
      "Berapa jumlah es teh yang anda pesan?  1\n",
      "Berapa jumlah es jeruk yang anda pesan?  1\n"
     ]
    },
    {
     "name": "stdout",
     "output_type": "stream",
     "text": [
      "Total belanjaan sebelum diskon :  53000.0\n",
      "Total belanja setelah diskon (Jika kamu dapat diskon): 37100.00\n"
     ]
    }
   ],
   "source": [
    "def menu_dan_harga():\n",
    "    print(\"Selamat datang di Kedai Mie Ayam Kami!! ini dia daftar harganya : \")\n",
    "    print(\"1. Mie ayam biasa : 10000\")\n",
    "    print(\"2. Mie ayam bakso : 18000\")\n",
    "    print(\"3. Mie ayam extra daging : 15000 \")\n",
    "    print(\"4. Es teh : 5000\")\n",
    "    print(\"5. Es Jeruk : 5000\")\n",
    "\n",
    "menu_dan_harga()\n",
    "\n",
    "\n",
    "umur_pelanggan = int(input(\"Berapa umur kamu? \"))\n",
    "\n",
    "if umur_pelanggan <= 13 :\n",
    "    print(\"Kamu memenuhi syarat!!! Selamat Kamu dapat diskon sebesar 50%!!! \" , )\n",
    "elif umur_pelanggan >= 60 :\n",
    "    print(\"Kamu memenuhi syarat!!! Selamat Kamu dapat diskon 30% \")\n",
    "else :\n",
    "    print(\"Kamu belum memenugi syarat, Kamu tidak dapat diskon ya huhu\")\n",
    "\n",
    "mie_ayam_biasa = 10000\n",
    "mie_ayam_bakso = 18000\n",
    "mie_ayam_ekstra = 15000\n",
    "es_teh = 5000\n",
    "es_jeruk = 5000\n",
    "\n",
    "mie_ayam_biasa_yang_dipesan = float(input(\"Berapa jumlah mie ayam biasa yang anda pesan? \")) \n",
    "mie_ayam_bakso_yang_dipesan = float(input(\"Berapa jumlah mie ayam bakso yang anda pesan? \")) \n",
    "mie_ayam_ekstra_yang_dipesan = float(input(\"Berapa jumlah mie ayam ekstra yang anda pesan? \"))\n",
    "es_teh_yang_dipesan = float(input(\"Berapa jumlah es teh yang anda pesan? \"))\n",
    "es_jeruk_yang_dipesan = float(input(\"Berapa jumlah es jeruk yang anda pesan? \"))\n",
    "\n",
    "total_harga_mie_ayam_biasa_yang_dipesan = mie_ayam_biasa_yang_dipesan * mie_ayam_biasa\n",
    "total_harga_mie_ayam_bakso_yang_dipesan = mie_ayam_bakso_yang_dipesan * mie_ayam_bakso\n",
    "total_harga_mie_ayam_ekstra_yang_dipesan = mie_ayam_ekstra_yang_dipesan * mie_ayam_ekstra\n",
    "total_harga_es_teh_dipesan = es_teh_yang_dipesan * es_teh\n",
    "total_harga_es_jeruk_dipesan = es_jeruk_yang_dipesan * es_jeruk\n",
    "\n",
    "def hitung_diskon(umur, total_belanja):\n",
    "    if umur <= 13 :\n",
    "        diskon = 0.50\n",
    "    elif umur >= 60:\n",
    "        diskon = 0.30 \n",
    "    else:\n",
    "        diskon = 0  \n",
    "\n",
    "    total_diskon = total_belanja * diskon\n",
    "    total_setelah_diskon = total_belanja - total_diskon\n",
    "\n",
    "    return total_setelah_diskon\n",
    "\n",
    "total_belanjaan = total_harga_mie_ayam_biasa_yang_dipesan + total_harga_mie_ayam_bakso_yang_dipesan + total_harga_mie_ayam_ekstra_yang_dipesan + total_harga_es_teh_dipesan + total_harga_es_jeruk_dipesan\n",
    "print(\"Total belanjaan sebelum diskon : \" , total_belanjaan)\n",
    "\n",
    "hasil = hitung_diskon(umur_pelanggan, total_belanjaan)\n",
    "print(f\"Total belanja setelah diskon (Jika kamu dapat diskon): {hasil:.2f}\")\n",
    "\n"
   ]
  },
  {
   "cell_type": "code",
   "execution_count": 14,
   "id": "ca468cb8-8a60-465e-96ce-d6cc0acfe259",
   "metadata": {},
   "outputs": [],
   "source": [
    "#Suatu aplikasi streaming memiliki batasan usia:\n",
    "#Film Semua Umur: Bisa ditonton oleh siapa saja\n",
    "#Film Remaja: Hanya untuk usia ≥ 13 tahun\n",
    "#Film Dewasa: Hanya untuk usia ≥ 18 tahun\n",
    "#Buat program yang meminta input usia dan kategori film, lalu tentukan apakah seseorang boleh menonton film tersebut atau tidak."
   ]
  },
  {
   "cell_type": "code",
   "execution_count": 16,
   "id": "f0acaa76-4c4d-4fda-81b8-ae270e0e8f58",
   "metadata": {},
   "outputs": [
    {
     "name": "stdout",
     "output_type": "stream",
     "text": [
      "Selamat datang di Netflix Lite KW 10!\n",
      "Berikut adalah daftar film yang tersedia:\n",
      "1. The Substance (18+)\n",
      "2. Mean Girls (13+)\n",
      "3. Trolls(Semua umur)\n",
      "4. Saw(21+)\n",
      "5. Ready Player One(13+)\n",
      "6. Inside out 2(Semua Umur)\n",
      "\n"
     ]
    },
    {
     "name": "stdin",
     "output_type": "stream",
     "text": [
      "Silakan pilih nomor film (1-6):  3\n",
      "Masukkan umur kamu:  19\n"
     ]
    },
    {
     "name": "stdout",
     "output_type": "stream",
     "text": [
      "Kamu bisa menonton film ini! 🎉\n"
     ]
    }
   ],
   "source": [
    "def tampilkan_daftar_film():\n",
    "    print(\"Selamat datang di Netflix Lite KW 10!\")\n",
    "    print(\"Berikut adalah daftar film yang tersedia:\")\n",
    "    print(\"1. The Substance (18+)\")\n",
    "    print(\"2. Mean Girls (13+)\")\n",
    "    print(\"3. Trolls(Semua umur)\")\n",
    "    print(\"4. Saw(21+)\")\n",
    "    print(\"5. Ready Player One(13+)\")\n",
    "    print(\"6. Inside out 2(Semua Umur)\")\n",
    "    print()\n",
    "\n",
    "def cek_kelayakan(umur, batas_umur):\n",
    "    if umur >= batas_umur:\n",
    "        return \"Kamu bisa menonton film ini! 🎉\"\n",
    "    else:\n",
    "        return \"Maaf, kamu belum memenuhi syarat untuk menonton film ini. \"\n",
    "\n",
    "def pilih_film():\n",
    "    tampilkan_daftar_film()\n",
    "    pilihan = int(input(\"Silakan pilih nomor film (1-6): \"))\n",
    "    umur = int(input(\"Masukkan umur kamu: \"))\n",
    "    \n",
    "    if pilihan == 1:\n",
    "        print(cek_kelayakan(umur, 18))\n",
    "    elif pilihan == 2:\n",
    "        print(cek_kelayakan(umur, 13))\n",
    "    elif pilihan == 3:\n",
    "        print(cek_kelayakan(umur, 0))\n",
    "    elif pilihan == 4:\n",
    "        print(cek_kelayakan(umur, 21))\n",
    "    elif pilihan == 5:\n",
    "        print(cek_kelayakan(umur, 13))\n",
    "    elif pilihan == 6:\n",
    "        print(cek_kelayakan(umur, 0))\n",
    "    else:\n",
    "        print(\"Pilihan tidak valid. Silakan coba lagi.\")\n",
    "\n",
    "\n",
    "pilih_film()"
   ]
  },
  {
   "cell_type": "code",
   "execution_count": 18,
   "id": "4c7918e2-e835-4614-823a-92c4c010d098",
   "metadata": {},
   "outputs": [],
   "source": [
    "#Sebuah toko memberikan diskon berdasarkan jumlah pembelian:\n",
    "#Jika total belanja ≥ Rp 500.000 → Diskon 20%\n",
    "#Jika total belanja ≥ Rp 250.000 → Diskon 10%\n",
    "#Jika total belanja < Rp 250.000 → Tidak ada diskon\n",
    "#Hitung harga akhir setelah diskon."
   ]
  },
  {
   "cell_type": "code",
   "execution_count": 20,
   "id": "0655b0cf-a240-4f86-b23d-ec690731044c",
   "metadata": {},
   "outputs": [
    {
     "name": "stdin",
     "output_type": "stream",
     "text": [
      "Total brlanja kamu? 700000\n"
     ]
    },
    {
     "name": "stdout",
     "output_type": "stream",
     "text": [
      "Kamu apat diskon sebesar :  70000.0\n",
      "Jadi total belanjaan kamu setelah diskon adalah :  630000.0\n"
     ]
    }
   ],
   "source": [
    "total_belanja = float(input(\"Total brlanja kamu?\"))\n",
    "diskon1 = 20/100\n",
    "diskon2 = 10/100\n",
    "\n",
    "Jumlah_diskon1 = total_belanja * diskon1\n",
    "Jumlah_diskon2 = total_belanja * diskon2\n",
    "\n",
    "if total_belanja >= 5000000 :\n",
    "    print(\"Kamu dapat diskon sebesar : \" , Jumlah_diskon1)\n",
    "elif total_belanja >= 250000 :\n",
    "    print(\"Kamu apat diskon sebesar : \" , Jumlah_diskon2)\n",
    "else :\n",
    "    \"Kamu belum dapat diskon :) \"\n",
    "\n",
    "if total_belanja >= 5000000 :\n",
    "    print(\"Jadi total belanjaan kamu setelah dapat diskon adalah  : \" , total_belanja - Jumlah_diskon1)\n",
    "elif total_belanja >= 250000 :\n",
    "    print(\"Jadi total belanjaan kamu setelah diskon adalah : \" , total_belanja - Jumlah_diskon2)\n",
    "else :\n",
    "    print(\"Silahkan dibayar :) \")\n"
   ]
  },
  {
   "cell_type": "code",
   "execution_count": 24,
   "id": "c63a9e52-2a69-41a0-81e5-5c8f58409fdb",
   "metadata": {},
   "outputs": [],
   "source": [
    "#rogram parkir:\n",
    "#Mobil: Rp 5.000 per jam\n",
    "#Motor: Rp 2.000 per jam\n",
    "#Jika parkir lebih dari 5 jam, ada biaya tambahan Rp 10.000\n",
    "#Hitung total biaya parkir berdasarkan jenis kendaraan dan durasi parkir."
   ]
  },
  {
   "cell_type": "code",
   "execution_count": 26,
   "id": "1e6334aa-6a79-4698-b0fb-5bc744187b29",
   "metadata": {},
   "outputs": [
    {
     "name": "stdin",
     "output_type": "stream",
     "text": [
      "Masukan motor/mobil:  motor\n",
      "Jam Masuk:  2\n",
      "Jam Keluar:  9\n"
     ]
    },
    {
     "name": "stdout",
     "output_type": "stream",
     "text": [
      "Tarif motor: 2000\n",
      "Lama Parkir: 7 jam\n",
      "Total Tarif Parkir: 14000\n"
     ]
    }
   ],
   "source": [
    "jenis_kendaraan = input(\"Masukan motor/mobil: \")\n",
    "jam_masuk = int(input(\"Jam Masuk: \"))\n",
    "jam_keluar = int(input(\"Jam Keluar: \"))\n",
    "\n",
    "tarif_perjam = 0\n",
    "if jenis_kendaraan == \"motor\":\n",
    "    tarif_perjam = 2000\n",
    "elif jenis_kendaraan == \"mobil\":\n",
    "    tarif_perjam = 5000\n",
    "else:\n",
    "    print(\"Tidak menerima selain mobil atau motor\")\n",
    "\n",
    "if jam_masuk >= jam_keluar:\n",
    "    print(\"Input Jam Masuk/Jam Keluar Salah!\")\n",
    "else:\n",
    "    total_tarif = (jam_keluar - jam_masuk)*tarif_perjam\n",
    "\n",
    "print(f\"Tarif {jenis_kendaraan}: {tarif_perjam}\")\n",
    "print(f\"Lama Parkir: {jam_keluar-jam_masuk} jam\")\n",
    "print(f\"Total Tarif Parkir: {total_tarif}\")"
   ]
  },
  {
   "cell_type": "code",
   "execution_count": 28,
   "id": "89d34cba-aff5-46ee-9528-853cbebab335",
   "metadata": {},
   "outputs": [],
   "source": [
    "#plikasi transportasi online memiliki tarif sebagai berikut\n",
    "#Jika jarak ≤ 5 km → Rp 5.000/km\n",
    "#Jika jarak 6-10 km → Rp 4.000/km\n",
    "#Jika jarak > 10 km → Rp 3.000/km\n",
    "#Hitung tarif perjalanan berdasarkan jarak yang dimasukkan pengguna.\n"
   ]
  },
  {
   "cell_type": "code",
   "execution_count": 30,
   "id": "fc430341-dc48-4d7c-b77a-1c13dd06f1ac",
   "metadata": {},
   "outputs": [
    {
     "name": "stdin",
     "output_type": "stream",
     "text": [
      "Berapa jarak tempuh :  6\n"
     ]
    },
    {
     "name": "stdout",
     "output_type": "stream",
     "text": [
      "Jarak tempuh :  6.0 km\n",
      "Tarif yang kamu dapatkan :  4000 per jam\n",
      "Tarif yang harus di bayar :  24000.0\n"
     ]
    }
   ],
   "source": [
    "jarak_tempuh = float(input(\"Berapa jarak tempuh : \"))\n",
    "print(\"Jarak tempuh : \" , jarak_tempuh , \"km\")\n",
    "\n",
    "def hitung_tarif_jarak_tempuh(jarak_tempuh):\n",
    "    if jarak_tempuh <= 5 :\n",
    "        return 5000\n",
    "    elif jarak_tempuh <= 10 :\n",
    "        return 4000\n",
    "    elif jarak_tempuh >10 :\n",
    "        return 3000\n",
    "    else :\n",
    "        print(\"Input anda tidak valid\")\n",
    "        return 0\n",
    "\n",
    "tarif = hitung_tarif_jarak_tempuh(jarak_tempuh)\n",
    "print(\"Tarif yang kamu dapatkan : \" , tarif , \"per jam\")\n",
    "print(\"Tarif yang harus di bayar : \" , tarif * jarak_tempuh)"
   ]
  },
  {
   "cell_type": "code",
   "execution_count": null,
   "id": "fc58eb99-0945-45b6-a2f9-67e7a8aa95a4",
   "metadata": {},
   "outputs": [],
   "source": [
    "#test coding skala penilaian yang diberikan dimulai dari 0 hingga 100 dengan sistem penilaian:\n",
    "\n",
    "#1. ketika seseorang mendapatkan nilai lebih dari 80 maka peserta tersebut akan mendapatkan hasil tes LOLOS\n",
    "\n",
    "#2. ketika sesorang mendapatkan nilai diantara 60 hingga 80 maka peserta tersebut mendapatkan hasil tes DIPERTIMBANGKAN\n",
    "\n",
    "#3. ketika seseorang mendapatkan nilai dibawah 60 maka peserta tersebut mendapatkan hasil tes GAGAL\n",
    "\n",
    "#Sedangkan untuk penilaian interview adalah\n",
    "\n",
    "#1. ketika nilai yang diberikan kepada seseorang tersebut adalah \"A\" atau \"B\" maka peserta tersebut dianggap LOLOS interview\n",
    "\n",
    "#2. selain kedua nilai tersebut maka peserta dianggap GAGAL tes interview.\n",
    "\n",
    "#Ketika calon programmer mendapatkan nilai coding LOLOS atau DIPERTIMBANGKAN dan juga LOLOS test interview maka tampilkanlah pesan \"Selamat Kamu Berhasil Menjadi Calon Programmer\". Jika tidak maka tampilkanlah pesan \"Maaf Kamu Belum Berhasil Menjadi Calon Programmer\""
   ]
  },
  {
   "cell_type": "code",
   "execution_count": 32,
   "id": "0f7d651b-1a4c-41f1-9fc3-985b02896600",
   "metadata": {},
   "outputs": [
    {
     "name": "stdin",
     "output_type": "stream",
     "text": [
      "Masukan nilai coding peserta :  94.5\n"
     ]
    },
    {
     "name": "stdout",
     "output_type": "stream",
     "text": [
      "Peserta LOLOS tes coding\n"
     ]
    },
    {
     "name": "stdin",
     "output_type": "stream",
     "text": [
      "Masukan nilai peserta (A/B) :  A\n"
     ]
    },
    {
     "name": "stdout",
     "output_type": "stream",
     "text": [
      "Peserta LOLOS tes interview\n",
      "Selamat kamu berhasil jadi calon programmer\n"
     ]
    }
   ],
   "source": [
    "nilai_coding = float(input(\"Masukan nilai coding peserta : \"))\n",
    "\n",
    "if nilai_coding >= 80 :\n",
    "    print(\"Peserta LOLOS tes coding\")\n",
    "elif nilai_coding >= 60 :\n",
    "    print(\"Hasil tes akan dipertimbangkan\")\n",
    "elif nilai_coding <60 :\n",
    "    print(\"Peserta GAGAL tes coding\")\n",
    "else :\n",
    "    print(\"Invalid input\")\n",
    "\n",
    "\n",
    "penilaian_interview = input(\"Masukan nilai peserta (A/B) : \")\n",
    "\n",
    "if penilaian_interview == \"A\" :\n",
    "    print(\"Peserta LOLOS tes interview\")\n",
    "elif penilaian_interview == \"B\" :\n",
    "    print(\"Peserta GAGAL test interview\")\n",
    "else :\n",
    "    print(\"Input invalid\")\n",
    "\n",
    "if nilai_coding >=80 and penilaian_interview == \"A\" :\n",
    "    print(\"Selamat kamu berhasil jadi calon programmer\")\n",
    "elif nilai_coding >60 and penilaian_interview == \"B\" :\n",
    "        print(\"Selamat kamu berhasil jadi calon programmer\")\n",
    "else :\n",
    "     print(\"Peserta belum cocok jadi programmer\")"
   ]
  },
  {
   "cell_type": "code",
   "execution_count": null,
   "id": "33030fd3-d48e-4e36-b11a-91cb3d10ec4a",
   "metadata": {},
   "outputs": [],
   "source": [
    "#Sebuah klub sepak bola \"PERSEGI FC\" mempunyai aturan dalam memberikan nomor punggung bagi para pemainnya. Para pemain diperbolehkan mempunyai posisi lebih dari 1. Berikut adalah beberapa aturannya:\n",
    "\n",
    "#1. Untuk nomor punggung genap, digunakan untuk posisi \"target attacker\n",
    "\n",
    "#2. Untuk nomor punggung genap antara 50-100, digunakan untuk pemain yang \"berhak dipilih menjadi capten team\"\n",
    "\n",
    "#3. Untuk nomor punggung ganjil, digunakan untuk posisi \"defender\"\n",
    "\n",
    "#4. Untuk nomor punggung ganjil lebih dari 90, digunakan untuk posisi \"Playmaker\n",
    "\n",
    "#5. Untuk nomor punggung ganjil kelipatan dari 3 dan 5, digunakan untuk posisi \"keeper\"\n",
    "\n",
    "#Buatlah program untuk melakukan pengecekan sebuah nomor punggung dapat berfungsi sebagai posisi apa saja."
   ]
  },
  {
   "cell_type": "code",
   "execution_count": 34,
   "id": "08843082-5c63-4ecc-b772-e64dac921d41",
   "metadata": {},
   "outputs": [
    {
     "name": "stdin",
     "output_type": "stream",
     "text": [
      "Masukan nomor punggung anda agar bisa mengetahui posisis anda apa :  10\n"
     ]
    },
    {
     "name": "stdout",
     "output_type": "stream",
     "text": [
      "Posisi Attacker\n"
     ]
    },
    {
     "name": "stdin",
     "output_type": "stream",
     "text": [
      "Masukan nomor punggung anda agar bisa mengetahui posisis anda apa :  66\n"
     ]
    },
    {
     "name": "stdout",
     "output_type": "stream",
     "text": [
      "Posisi Attacker\n",
      "Dan kamu berhak dipilih menjadi kapten team \n"
     ]
    },
    {
     "name": "stdin",
     "output_type": "stream",
     "text": [
      "Masukan nomor punggung anda agar bisa mengetahui posisis anda apa :  7\n"
     ]
    },
    {
     "name": "stdout",
     "output_type": "stream",
     "text": [
      "Posisi Defender\n"
     ]
    },
    {
     "name": "stdin",
     "output_type": "stream",
     "text": [
      "Masukan nomor punggung anda agar bisa mengetahui posisis anda apa :  99\n"
     ]
    },
    {
     "name": "stdout",
     "output_type": "stream",
     "text": [
      "Posisi Defender\n",
      "Dan Playmaker\n"
     ]
    }
   ],
   "source": [
    "def cari_posisi(no_punggung_pemain):\n",
    "    if no_punggung_pemain % 2 == 0 :\n",
    "        print(\"Posisi Attacker\")\n",
    "        if no_punggung_pemain >= 50 and no_punggung_pemain <= 100 :\n",
    "          print(\"Dan kamu berhak dipilih menjadi kapten team \")\n",
    "    elif no_punggung_pemain % 2 != 0 :\n",
    "        print(\"Posisi Defender\")\n",
    "        if no_punggung_pemain >= 90 :\n",
    "             print(\"Dan Playmaker\")\n",
    "    elif no_punggung_pemain % 2 != 0 and no_punggung_pemain % 3 == 0 and no_punggung_pemain % 5 == 0 :\n",
    "        print(\"Kamu Keeper\")\n",
    "\n",
    "cari_posisi(int(input(\"Masukan nomor punggung anda agar bisa mengetahui posisis anda apa : \")))\n",
    "cari_posisi(int(input(\"Masukan nomor punggung anda agar bisa mengetahui posisis anda apa : \")))\n",
    "cari_posisi(int(input(\"Masukan nomor punggung anda agar bisa mengetahui posisis anda apa : \")))\n",
    "cari_posisi(int(input(\"Masukan nomor punggung anda agar bisa mengetahui posisis anda apa : \")))"
   ]
  }
 ],
 "metadata": {
  "kernelspec": {
   "display_name": "Python [conda env:base] *",
   "language": "python",
   "name": "conda-base-py"
  },
  "language_info": {
   "codemirror_mode": {
    "name": "ipython",
    "version": 3
   },
   "file_extension": ".py",
   "mimetype": "text/x-python",
   "name": "python",
   "nbconvert_exporter": "python",
   "pygments_lexer": "ipython3",
   "version": "3.12.7"
  }
 },
 "nbformat": 4,
 "nbformat_minor": 5
}
