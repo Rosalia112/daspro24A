{
 "cells": [
  {
   "cell_type": "code",
   "execution_count": null,
   "id": "5e4e86dc-6598-4acb-8bc4-67371f283bb5",
   "metadata": {},
   "outputs": [],
   "source": []
  },
  {
   "cell_type": "code",
   "execution_count": 63,
   "id": "45df0c87-4769-4f33-b1af-fc50155ca47a",
   "metadata": {},
   "outputs": [
    {
     "name": "stdout",
     "output_type": "stream",
     "text": [
      "\n",
      "NIM yang kamu masukkan tidak valid\n",
      "Nama yang kamu masukkan tidak valid\n",
      "Alamat yang kamu masukkan tidak valid\n",
      "Kelas yang kamu masukkan tidak valid\n"
     ]
    }
   ],
   "source": [
    "\n",
    "try:\n",
    "    f = open(\"dataMahasiswa.txt\" , \"r\")\n",
    "    baris = f.read()\n",
    "except FileNotFoundError:\n",
    "    print(\"File tidak ditemukan\")\n",
    "else:\n",
    "    print(baris)\n",
    "\n",
    "finally:\n",
    "    f.close()\n",
    "\n",
    "try:\n",
    "    with open(\"dataNim.txt\", \"w\") as file:\n",
    "        if len(nim) != 11 or not nim.isdigit():\n",
    "            raise ValueError(\"NIM yang kamu masukkan tidak valid\")\n",
    "        file.write(f\"NIM : {nim}\")\n",
    "\n",
    "except ValueError as e:\n",
    "    print(e)\n",
    "\n",
    "try:\n",
    "    with open(\"dataMahasiswa.txt\", \"w\") as file:\n",
    "        if len(nama) <5:\n",
    "            raise ValueError(\"Nama yang kamu masukkan tidak valid\")\n",
    "        file.write(f\"Nama : {nama}\")\n",
    "\n",
    "except ValueError as e:\n",
    "    print(e)\n",
    "\n",
    "try:\n",
    "    with open(\"dataAlamat.txt\", \"w\") as file:\n",
    "        if len(alamat) <10:\n",
    "            raise ValueError(\"Alamat yang kamu masukkan tidak valid\")\n",
    "        file.write(f\"Alamat : {alamat}\")\n",
    "\n",
    "except ValueError as e:\n",
    "    print(e)\n",
    "\n",
    "try:\n",
    "    with open(\"dataKelas.txt\", \"w\") as file:\n",
    "        if kelas != \"TI23\" or \"TI24\" :\n",
    "            raise ValueError(\"Kelas yang kamu masukkan tidak valid\")\n",
    "        file.write(f\"Kelas : {kelas}\")\n",
    "\n",
    "except ValueError as e:\n",
    "    print(e)\n",
    "\n",
    "\n"
   ]
  },
  {
   "cell_type": "code",
   "execution_count": 53,
   "id": "27d5c70c-e0fd-4480-bed9-23807091278e",
   "metadata": {},
   "outputs": [
    {
     "name": "stdin",
     "output_type": "stream",
     "text": [
      "Masukan NIM :  2024oo4o2o9\n",
      "Masukan nama :  rosa\n",
      "Masukan alamat :  london\n",
      "Masukan kelas :  TI20C\n"
     ]
    }
   ],
   "source": [
    "with open(\"dataNim.txt\", \"w\") as file:\n",
    "    nim = input(\"Masukan NIM : \")\n",
    "    file.write(f\"Nim Mahasiswa : {nim}\")\n",
    "\n",
    "with open(\"dataMahasiswa.txt\" , \"w\") as file:\n",
    "    nama = input(\"Masukan nama : \")\n",
    "    file.write(f\"Nama Mahasiswa : {nama}\")\n",
    "\n",
    "with open(\"dataAlamat.txt\" , \"w\") as file:\n",
    "    alamat = input(\"Masukan alamat : \")\n",
    "    file.write(f\"Alamat Mahasiswa : {alamat}\")\n",
    "\n",
    "with open(\"dataKelas.txt\" , \"w\") as file:\n",
    "    kelas = input(\"Masukan kelas : \")\n",
    "    file.write(f\"Nama Kelas : {kelas}\")"
   ]
  },
  {
   "cell_type": "code",
   "execution_count": null,
   "id": "464ca9b2-dc3a-4a1a-ad0b-d7c56de0dfe1",
   "metadata": {},
   "outputs": [],
   "source": []
  }
 ],
 "metadata": {
  "kernelspec": {
   "display_name": "Python [conda env:base] *",
   "language": "python",
   "name": "conda-base-py"
  },
  "language_info": {
   "codemirror_mode": {
    "name": "ipython",
    "version": 3
   },
   "file_extension": ".py",
   "mimetype": "text/x-python",
   "name": "python",
   "nbconvert_exporter": "python",
   "pygments_lexer": "ipython3",
   "version": "3.12.7"
  }
 },
 "nbformat": 4,
 "nbformat_minor": 5
}
