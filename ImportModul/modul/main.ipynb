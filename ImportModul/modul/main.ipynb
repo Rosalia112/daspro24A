{
 "cells": [
  {
   "cell_type": "code",
   "execution_count": 11,
   "id": "23bd2ca0-b183-4cd3-8119-66bfb72173d6",
   "metadata": {},
   "outputs": [
    {
     "name": "stdin",
     "output_type": "stream",
     "text": [
      "Isikan panjang meja (cm) 1000\n"
     ]
    },
    {
     "name": "stdout",
     "output_type": "stream",
     "text": [
      "Panjang meja dalam meter : None\n"
     ]
    },
    {
     "name": "stdin",
     "output_type": "stream",
     "text": [
      "Isikan panjang meja (cm) 10\n"
     ]
    },
    {
     "name": "stdout",
     "output_type": "stream",
     "text": [
      "Panjang meja dalam cm : 1000\n"
     ]
    }
   ],
   "source": [
    "import convert.convert as cv\n",
    "\n",
    "pjgCm = int(input(\"Isikan panjang meja (cm)\"))\n",
    "pjgMt = cv.cmToMeter(pjgCm)\n",
    "print(f\"Panjang meja dalam meter : {pjgMt}\")\n",
    "\n",
    "pjgMt = int(input(\"Isikan panjang meja (cm)\"))\n",
    "pjgCm = cv.meterToCm(pjgMt)\n",
    "print(f\"Panjang meja dalam cm : {pjgCm}\")\n",
    "\n"
   ]
  },
  {
   "cell_type": "code",
   "execution_count": null,
   "id": "81e9a738-b6d2-4e27-ba25-34355a9c79ee",
   "metadata": {},
   "outputs": [],
   "source": []
  },
  {
   "cell_type": "code",
   "execution_count": 21,
   "id": "08f2adb1-ab62-4dd3-b0f0-996290562142",
   "metadata": {},
   "outputs": [
    {
     "name": "stdin",
     "output_type": "stream",
     "text": [
      "Isikan angka :  2\n",
      "Isikan angka2 : 3\n"
     ]
    },
    {
     "name": "stdout",
     "output_type": "stream",
     "text": [
      "Hasil Pertambahan : 5\n"
     ]
    }
   ],
   "source": [
    "import Mathematics.math as math\n",
    "\n",
    "angka1 = int(input(\"Isikan angka : \"))\n",
    "angka2 = int(input(\"Isikan angka2 :\"))\n",
    "tambah = math.addNumber(angka1, angka2)\n",
    "print(f\"Hasil Pertambahan : {tambah}\")\n",
    "\n",
    "num_1 = int(input(\"Isikan angka\"))"
   ]
  },
  {
   "cell_type": "code",
   "execution_count": null,
   "id": "b3fff5fe-9dc9-48d1-8e1a-419e39a3ddd7",
   "metadata": {},
   "outputs": [],
   "source": []
  },
  {
   "cell_type": "code",
   "execution_count": 47,
   "id": "2e32ad2e-c1bd-4c84-93b7-ae119c940624",
   "metadata": {},
   "outputs": [
    {
     "name": "stdout",
     "output_type": "stream",
     "text": [
      "=== Menu Utama ===\n",
      "1. Convert (Untuk mengetahui panjang benda)\n",
      "2.Aritmatika\n",
      "3. Ubah bilangan Desimal\n",
      "4. Keluar\n"
     ]
    },
    {
     "name": "stdin",
     "output_type": "stream",
     "text": [
      "Isikan pilihan :  1\n"
     ]
    },
    {
     "name": "stdout",
     "output_type": "stream",
     "text": [
      "1.Cm to Meter\n",
      "2 Meter to Cm\n"
     ]
    },
    {
     "name": "stdin",
     "output_type": "stream",
     "text": [
      "Isikan pilahan convert : 1\n",
      "Isikan panjang benda : 11\n"
     ]
    },
    {
     "name": "stdout",
     "output_type": "stream",
     "text": [
      "Panjang benda dalam meter = 0.11 \n",
      "=== Menu Utama ===\n",
      "1. Convert (Untuk mengetahui panjang benda)\n",
      "2.Aritmatika\n",
      "3. Ubah bilangan Desimal\n",
      "4. Keluar\n"
     ]
    },
    {
     "name": "stdin",
     "output_type": "stream",
     "text": [
      "Isikan pilihan :  14\n"
     ]
    },
    {
     "name": "stdout",
     "output_type": "stream",
     "text": [
      "=== Menu Utama ===\n",
      "1. Convert (Untuk mengetahui panjang benda)\n",
      "2.Aritmatika\n",
      "3. Ubah bilangan Desimal\n",
      "4. Keluar\n"
     ]
    },
    {
     "name": "stdin",
     "output_type": "stream",
     "text": [
      "Isikan pilihan :  4\n"
     ]
    },
    {
     "name": "stdout",
     "output_type": "stream",
     "text": [
      "Terimakasih sudah Berpastisipasi\n"
     ]
    }
   ],
   "source": [
    "### import convert.convert as cv\n",
    "import Mathematics.math as math\n",
    "import convert.convert as cv\n",
    "import changeNum.num as num\n",
    "\n",
    "\n",
    "def menuUtama() :\n",
    "    print(\"=== Menu Utama ===\")\n",
    "    print(\"1. Convert (Untuk mengetahui panjang benda)\")\n",
    "    print(\"2.Aritmatika\")\n",
    "    print(\"3. Ubah bilangan Desimal\")\n",
    "    print(\"4. Keluar\")\n",
    "\n",
    "def menuMath() :\n",
    "    print(\"1.Perpangkatan \")\n",
    "    print(\"2.Pertambahan \")\n",
    "    print(\"3. Perkalian \")\n",
    "\n",
    "def menuConvert() :\n",
    "    print(\"1.Cm to Meter\")\n",
    "    print(\"2 Meter to Cm\")\n",
    "\n",
    "def menu_change_num() :\n",
    "    print(\"1. Desimal to biner\")\n",
    "    print(\"2. Desimal to Oktal\")\n",
    "    print(\"3. Desimal to HexaDesimal\")\n",
    "\n",
    "while True :\n",
    "    menuUtama()\n",
    "    pilihMenu = int(input(\"Isikan pilihan : \"))\n",
    "    if pilihMenu==1 :\n",
    "        menuConvert()\n",
    "        pilihConvert = int(input(\"Isikan pilahan convert :\"))\n",
    "        pjg = int(input(\"Isikan panjang benda :\"))\n",
    "        if pilihConvert == 1 :\n",
    "            pjgMt = cv.cmToMeter(pjg)\n",
    "            print(f\"Panjang benda dalam meter = {pjgMt} \")\n",
    "        elif pilihConvert == 2 :\n",
    "            pjgCm = cv.meterToCm(pjg)\n",
    "            print(f\"Panjang benda dalam cm = {pjgCm} \")\n",
    "    elif pilihMenu==2 :\n",
    "        menuMath()\n",
    "        pilihMath = int(input(\"Isikan pilahan math :\"))\n",
    "        pjg2 = int(input(\"Isikan angka 1\"))\n",
    "        pjg3 = int(input(\"Isikan angka 2\"))\n",
    "        if pilihMath == 1 :\n",
    "            kelipatan = math.powNumber(pjg2,pjg3)\n",
    "            print(f\"Hasil Kelipatan = {Kelipatan}\")\n",
    "        elif pilihMath == 2 :\n",
    "            pertambahan = math.addNumber(pjg2,pjg3)\n",
    "            print(f\"Hasil pertambahan = {pertambahan}\")\n",
    "        elif pilihMath == 3 :\n",
    "            perkalian = math.mulNumber(pjg2,pjg3)\n",
    "            print(f\"Hasil perkalian = {perkalian}\")\n",
    "    elif pilihMenu == 3 :\n",
    "        menu_change_num()\n",
    "        pilihChangeNum = int(input(\"Masukan opsi\"))\n",
    "        bil = int(input(\"Masukan bilangan : \"))\n",
    "        if pilihChangeNum == 1 :\n",
    "            bil_dalam_biner = num.des_to_biner(bil)\n",
    "            print(f\"Bilangan dalam bentuk biner = {bil_dalam_biner}\")\n",
    "        if pilihChangeNum == 2 :\n",
    "            bil_dalam_oktal = num.des_to_oktal(bil)\n",
    "            print(f\"Bilangan dalam bentuk biner = {bil_dalam_oktal}\")\n",
    "        if pilihChangeNum == 3 :\n",
    "            bil_dalam_hexa = num.des_to_hexa(bil)\n",
    "            print(f\"Bilangan dalam bentuk biner = {bil_dalam_hexa}\")\n",
    "    elif pilihMenu==4 :\n",
    "        print(\"Terimakasih sudah Berpastisipasi\")\n",
    "        break\n"
   ]
  },
  {
   "cell_type": "code",
   "execution_count": null,
   "id": "7adfea1b-fbc3-4986-9bfa-f95741f4bf03",
   "metadata": {},
   "outputs": [],
   "source": []
  }
 ],
 "metadata": {
  "kernelspec": {
   "display_name": "Python [conda env:base] *",
   "language": "python",
   "name": "conda-base-py"
  },
  "language_info": {
   "codemirror_mode": {
    "name": "ipython",
    "version": 3
   },
   "file_extension": ".py",
   "mimetype": "text/x-python",
   "name": "python",
   "nbconvert_exporter": "python",
   "pygments_lexer": "ipython3",
   "version": "3.12.7"
  }
 },
 "nbformat": 4,
 "nbformat_minor": 5
}
