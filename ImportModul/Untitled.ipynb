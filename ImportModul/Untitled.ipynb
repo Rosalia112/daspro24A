{
 "cells": [
  {
   "cell_type": "code",
   "execution_count": 39,
   "id": "b75ae013-dffd-4eb9-b06b-4c73910ff817",
   "metadata": {},
   "outputs": [],
   "source": [
    "#function dan built im function \n",
    "#1. Function tanpa parameter \n",
    "import datetime\n",
    "\n",
    "def showDate() :\n",
    "    today = datetime.date.today()\n",
    "    print(f\"Today is : {today}\")\n",
    "\n"
   ]
  },
  {
   "cell_type": "code",
   "execution_count": null,
   "id": "a4001c80-e7bf-4642-8a29-e4563a4d6f84",
   "metadata": {},
   "outputs": [],
   "source": []
  },
  {
   "cell_type": "code",
   "execution_count": 31,
   "id": "a739aee6-fd2e-4d73-a42b-e021e98a581d",
   "metadata": {},
   "outputs": [],
   "source": [
    "#Function dengan parameter \n",
    "#Menampilkan Nama Lengkap beserta gelar\n",
    "\n",
    "def getFullName(first,middle,last) :\n",
    "    fullName = f\"{first} {middle} {last}, S.Kom\"\n",
    "    print(F\"Welcome, {fullName}\")"
   ]
  },
  {
   "cell_type": "code",
   "execution_count": null,
   "id": "78dd7231-0113-4b29-b8ab-def28d1b4fe9",
   "metadata": {},
   "outputs": [],
   "source": []
  },
  {
   "cell_type": "code",
   "execution_count": 33,
   "id": "e75658ce-dac0-44ef-97e5-7b8e6042a9b7",
   "metadata": {},
   "outputs": [
    {
     "name": "stdout",
     "output_type": "stream",
     "text": [
      "Hasil pertambahan 10 dan 5 : 15\n",
      "Hasil perkalian 4 dan 5 : 20\n",
      "Hasil perkalian r1 dan r2 : 35\n"
     ]
    }
   ],
   "source": [
    "#Function dengan return value\n",
    "def addNumber(num1,num2) :\n",
    "    result = num1 + num2\n",
    "    return result\n",
    "\n",
    "def multiplyNumber(num1,num2) :\n",
    "    result = num1 * num2\n",
    "    return result\n",
    "\n",
    "def math(num1, num2) :\n",
    "    rAdd = num1 + num2\n",
    "    rDevide = num1 / num\n",
    "    return rAdd, rDevide\n",
    "\n",
    "\n",
    "\n",
    "r1 = addNumber(10,5)\n",
    "r2 = multiplyNumber(4,5)\n",
    "r3 = addNumber(r1,r2)\n",
    "rAdd,rDevine = math(4,5)\n",
    "print(f\"Hasil pertambahan 10 dan 5 : {r1}\")\n",
    "print(f\"Hasil perkalian 4 dan 5 : {r2}\")\n",
    "print(f\"Hasil perkalian r1 dan r2 : {r3}\")\n",
    "print()"
   ]
  },
  {
   "cell_type": "code",
   "execution_count": null,
   "id": "4642a950-6b8b-4c97-99ba-89cbcb8f1b59",
   "metadata": {},
   "outputs": [],
   "source": []
  },
  {
   "cell_type": "code",
   "execution_count": 47,
   "id": "ffdc92f3-5f0d-48dc-8855-c92507765eba",
   "metadata": {},
   "outputs": [],
   "source": [
    "#Function dengan nilai default\n",
    "\n",
    "def userRegist(nama,email,status=False,role='user') :\n",
    "    return f\"Nama : {nama} \\n email : {email} \\n Role : {role}\"\n"
   ]
  },
  {
   "cell_type": "code",
   "execution_count": null,
   "id": "91be5ad1-3f54-440a-82cb-dae761471d5b",
   "metadata": {},
   "outputs": [],
   "source": []
  },
  {
   "cell_type": "code",
   "execution_count": 51,
   "id": "e363b4ef-0b25-4f73-9790-0082e67617e2",
   "metadata": {},
   "outputs": [
    {
     "name": "stdout",
     "output_type": "stream",
     "text": [
      "Today is : 2025-05-21\n",
      "Nama : Rudi \n",
      " email : rudi@gmail.com \n",
      " Role : user\n"
     ]
    }
   ],
   "source": [
    "showDate()\n",
    "print(userRegist(\"Rudi\" , \"rudi@gmail.com\"))"
   ]
  },
  {
   "cell_type": "code",
   "execution_count": null,
   "id": "a4d74d45-9d65-4e75-90c9-bdba11952d4c",
   "metadata": {},
   "outputs": [],
   "source": []
  },
  {
   "cell_type": "code",
   "execution_count": 65,
   "id": "e9da2bbe-8f1a-47de-9e4b-6e3f34ff1a90",
   "metadata": {},
   "outputs": [
    {
     "name": "stdout",
     "output_type": "stream",
     "text": [
      "('Malang', 'Surabaya', 'Sukabumi', 'Jakarta')\n",
      "{'nama': 'Andri', 'umur': 21}\n",
      "Malang\n",
      "Andri\n",
      "21\n"
     ]
    }
   ],
   "source": [
    "#function dengan keyword Argument, menggunakan tanda * danaa **\n",
    "\n",
    "def printData(*args , **kwarg) :\n",
    "    print(args)\n",
    "    print(kwarg)\n",
    "    return args,kwarg\n",
    "\n",
    "data1, data2 = printData(\"Malang\" , \"Surabaya\" , \"Sukabumi\" , \"Jakarta\" , nama='Andri' , umur=21)\n",
    "\n",
    "print(data1[0])\n",
    "for item in data2.items():\n",
    "    print(item[1])"
   ]
  },
  {
   "cell_type": "code",
   "execution_count": null,
   "id": "f637173f-6be5-4102-b718-250865d57c3f",
   "metadata": {},
   "outputs": [],
   "source": []
  },
  {
   "cell_type": "code",
   "execution_count": null,
   "id": "25608564-3913-4eec-9f93-fa38cd7149d6",
   "metadata": {},
   "outputs": [],
   "source": [
    "import math"
   ]
  }
 ],
 "metadata": {
  "kernelspec": {
   "display_name": "Python [conda env:base] *",
   "language": "python",
   "name": "conda-base-py"
  },
  "language_info": {
   "codemirror_mode": {
    "name": "ipython",
    "version": 3
   },
   "file_extension": ".py",
   "mimetype": "text/x-python",
   "name": "python",
   "nbconvert_exporter": "python",
   "pygments_lexer": "ipython3",
   "version": "3.12.7"
  }
 },
 "nbformat": 4,
 "nbformat_minor": 5
}
