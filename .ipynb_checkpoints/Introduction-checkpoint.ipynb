{
 "cells": [
  {
   "cell_type": "markdown",
   "id": "084f5569-179c-41a0-a9f3-b527259160a4",
   "metadata": {},
   "source": [
    "<center><img src=\"https://beecrowd.com/wp-content/uploads/2024/04/2022-07-19-Melhores-cursos-de-Python.jpg\" width=\"400\"><br>\n",
    "Tutorial Jupiter Notebook<br>\n",
    "\n",
    "Tempat menuliskan kode disebut <b>cell</b><br>\n",
    "<ol>\n",
    "    <li>Code - Y</li>\n",
    "    <li>Markdown - M</li>\n",
    "</ol>\n",
    "<hr>\n",
    "Cara Menjalankan cell <hr>\n",
    "<table>\n",
    "    <tr>\n",
    "        <td>Command</td>\n",
    "        <td>Keterangan</td>\n",
    "    </tr>\n",
    "    <tr>\n",
    "        <td>ctrl + enter</td>\n",
    "        <td>Running dan fokus di cell aktif</td>\n",
    "    </tr>\n",
    "    <tr> \n",
    "        <td>Shift + enter</td>\n",
    "        <td> Running dan fokus di cell berikutnya</td>\n",
    "    </tr>\n",
    "    \n",
    "</table>"
   ]
  },
  {
   "cell_type": "markdown",
   "id": "23849c02-5193-419d-84ba-6d892245858a",
   "metadata": {},
   "source": [
    "Cara menambahkan cell ada 2 cara \n",
    "<ul>\n",
    "    <li>Tekan A -> bove</li>\n",
    "    <li>Tekan B -> Below</li>\n",
    "</ul>\n",
    "Cara membuat output di python adalah <br>\n",
    "'''print(teks yang akan di print)'''\n"
   ]
  },
  {
   "cell_type": "code",
   "execution_count": 38,
   "id": "4edeecc2-ed86-4825-9256-6a9427c6054a",
   "metadata": {},
   "outputs": [
    {
     "name": "stdout",
     "output_type": "stream",
     "text": [
      "Selamat belajar python\n",
      "Selamat belajar python\n"
     ]
    }
   ],
   "source": [
    "#Cetak tulisan Selamat belajar python\n",
    "\n",
    "print(\"Selamat belajar python\")\n",
    "data = \"Selamat belajar python\"\n",
    "print(data)"
   ]
  }
 ],
 "metadata": {
  "kernelspec": {
   "display_name": "Python [conda env:base] *",
   "language": "python",
   "name": "conda-base-py"
  },
  "language_info": {
   "codemirror_mode": {
    "name": "ipython",
    "version": 3
   },
   "file_extension": ".py",
   "mimetype": "text/x-python",
   "name": "python",
   "nbconvert_exporter": "python",
   "pygments_lexer": "ipython3",
   "version": "3.12.7"
  }
 },
 "nbformat": 4,
 "nbformat_minor": 5
}
